{
 "cells": [
  {
   "cell_type": "markdown",
   "metadata": {},
   "source": [
    "# EDUNET FOUNDATION-Self-Practice Notebook"
   ]
  },
  {
   "cell_type": "markdown",
   "metadata": {},
   "source": [
    "## LAB 4 - Exercise- Take input from users "
   ]
  },
  {
   "cell_type": "markdown",
   "metadata": {},
   "source": [
    "#### Question 1: Write a Python program that takes a user's name as input and greets them."
   ]
  },
  {
   "cell_type": "code",
   "execution_count": 1,
   "metadata": {},
   "outputs": [
    {
     "name": "stdout",
     "output_type": "stream",
     "text": [
      "Enter your name: Rashmi\n",
      "Hello, Rashmi!\n"
     ]
    }
   ],
   "source": [
    "user_name = input(\"Enter your name: \")\n",
    "print(\"Hello, \" + user_name + \"!\")\n"
   ]
  },
  {
   "cell_type": "markdown",
   "metadata": {},
   "source": [
    "#### user_name = input(\"Enter your name: \"): This line of code does the following:\n",
    "\n",
    "input(\"Enter your name: \"): It displays the message \"Enter your name: \" to the user in the console and waits for the user to type something.\n",
    "user_name = ...: It takes the user's input (the name they type) and stores it in the variable user_name.\n",
    "print(\"Hello, \" + user_name + \"!\"): After collecting the user's name, this line of code:\n",
    "\n",
    "#### Uses the print function to display a greeting message.\n",
    "\"Hello, \": This is a string literal that represents the beginning of the greeting.\n",
    "user_name: It retrieves the user's name that was stored in the user_name variable.\n",
    "\"!\": This is another string literal that represents the end of the greeting.\n",
    "+: This is a string concatenation operator that combines the various parts into a single string.\n",
    "So, if the user enters their name when prompted, for example, \"Rashmi,\" the program will display: \n",
    "\n",
    "#### Hello, Rashmi!"
   ]
  },
  {
   "cell_type": "markdown",
   "metadata": {},
   "source": [
    "#### Question 2:Create a program that asks the user for their age and tells them how many years they will be 100 years old."
   ]
  },
  {
   "cell_type": "code",
   "execution_count": 2,
   "metadata": {},
   "outputs": [
    {
     "name": "stdout",
     "output_type": "stream",
     "text": [
      "Enter your age: 30\n",
      "You will be 100 years old in 70 years.\n"
     ]
    }
   ],
   "source": [
    "age = int(input(\"Enter your age: \"))\n",
    "years_to_100 = 100 - age\n",
    "print(\"You will be 100 years old in \" + str(years_to_100) + \" years.\")\n"
   ]
  },
  {
   "cell_type": "markdown",
   "metadata": {},
   "source": [
    "#### Above code takes the user's age as input, calculates how many years it will take for the user to reach 100 years old, and then prints a message indicating when that will happen. Let's understand the code:\n",
    "\n",
    "#### age = int(input(\"Enter your age: \")):\n",
    "\n",
    "It uses the input function to prompt the user to enter their age. The input is collected as a string.\n",
    "int(...): It converts the user's input (which is initially a string) into an integer using the int function.\n",
    "age: The user's age, now stored as an integer, is assigned to the variable age.\n",
    "\n",
    "#### years_to_100 = 100 - age:\n",
    "\n",
    "It calculates the number of years remaining for the user to reach the age of 100.\n",
    "100 - age: This expression subtracts the user's current age (stored in the age variable) from 100, resulting in the number of years to reach 100. The result is stored in the years_to_100 variable.\n",
    "\n",
    "#### print(\"You will be 100 years old in \" + str(years_to_100) + \" years.\"):\n",
    "\n",
    "This line uses the print function to display a message to the user.\n",
    "\"You will be 100 years old in \": This is a string literal, providing the start of the message.\n",
    "+: The string concatenation operator combines different parts of the message.\n",
    "str(years_to_100): It converts the years_to_100 variable (which is an integer) into a string using the str function so that it can be combined with other strings.\n",
    "\" years.\": This is another string literal, providing the end of the message.\n",
    "So, if the user enters their age as 30, the program will calculate that it will take 70 more years for them to reach 100 years old, and it will print the message: \n",
    "\n",
    "#### You will be 100 years old in 70 years."
   ]
  },
  {
   "cell_type": "markdown",
   "metadata": {},
   "source": [
    "#### Question 3: Build a calculator that takes two numbers as input and performs addition, subtraction, multiplication, or division based on user input."
   ]
  },
  {
   "cell_type": "code",
   "execution_count": 4,
   "metadata": {},
   "outputs": [
    {
     "name": "stdout",
     "output_type": "stream",
     "text": [
      "Enter first number: 4\n",
      "Enter second number: 5\n",
      "Enter operation (+, -, *, /): +\n",
      "Result: 9.0\n"
     ]
    }
   ],
   "source": [
    "num1 = float(input(\"Enter first number: \"))\n",
    "num2 = float(input(\"Enter second number: \"))\n",
    "operation = input(\"Enter operation (+, -, *, /): \")\n",
    "\n",
    "if operation == '+':\n",
    "    result = num1 + num2\n",
    "elif operation == '-':\n",
    "    result = num1 - num2\n",
    "elif operation == '*':\n",
    "    result = num1 * num2\n",
    "elif operation == '/':\n",
    "    result = num1 / num2\n",
    "else:\n",
    "    result = \"Invalid operation\"\n",
    "\n",
    "print(\"Result: \" + str(result))\n"
   ]
  },
  {
   "cell_type": "markdown",
   "metadata": {},
   "source": [
    "#### Question 4: Write a program that prompts the user for a string and prints it in reverse."
   ]
  },
  {
   "cell_type": "code",
   "execution_count": 5,
   "metadata": {},
   "outputs": [
    {
     "name": "stdout",
     "output_type": "stream",
     "text": [
      "Enter a string: Rashmi how are you\n",
      "Reversed string: uoy era woh imhsaR\n"
     ]
    }
   ],
   "source": [
    "user_string = input(\"Enter a string: \")\n",
    "reversed_string = user_string[::-1]\n",
    "print(\"Reversed string: \" + reversed_string)\n"
   ]
  },
  {
   "cell_type": "markdown",
   "metadata": {},
   "source": [
    "#### Question 5: Create a simple password checker that takes a password as input and checks if it meets certain criteria (e.g., length, containing numbers and special characters)."
   ]
  },
  {
   "cell_type": "code",
   "execution_count": 7,
   "metadata": {},
   "outputs": [
    {
     "name": "stdout",
     "output_type": "stream",
     "text": [
      "Enter your password: crash_course@1234\n",
      "Password is valid.\n"
     ]
    }
   ],
   "source": [
    "password = input(\"Enter your password: \")\n",
    "\n",
    "if len(password) < 8:\n",
    "    print(\"Password is too short. It should be at least 8 characters.\")\n",
    "elif not any(char.isdigit() for char in password):\n",
    "    print(\"Password should contain at least one digit.\")\n",
    "elif not any(char.isalpha() for char in password):\n",
    "    print(\"Password should contain at least one letter.\")\n",
    "else:\n",
    "    print(\"Password is valid.\")\n"
   ]
  },
  {
   "cell_type": "markdown",
   "metadata": {},
   "source": [
    "#### Question 6: Develop a program that asks the user for a number and then prints whether it's even or odd."
   ]
  },
  {
   "cell_type": "code",
   "execution_count": 9,
   "metadata": {},
   "outputs": [
    {
     "name": "stdout",
     "output_type": "stream",
     "text": [
      "Enter a number: 6\n",
      "Even\n"
     ]
    }
   ],
   "source": [
    "num = int(input(\"Enter a number: \"))\n",
    "\n",
    "if num % 2 == 0:\n",
    "    print(\"Even\")\n",
    "else:\n",
    "    print(\"Odd\")\n"
   ]
  },
  {
   "cell_type": "markdown",
   "metadata": {},
   "source": [
    "#### Question 7: Build a unit converter that takes a measurement in one unit (e.g., meters) and converts it to another unit (e.g., feet) based on user input."
   ]
  },
  {
   "cell_type": "code",
   "execution_count": 13,
   "metadata": {},
   "outputs": [
    {
     "name": "stdout",
     "output_type": "stream",
     "text": [
      "Enter a measurement value: 4\n",
      "Enter the source unit (e.g., meters, feet): meters\n",
      "Enter the target unit (e.g., meters, feet): feet\n",
      "Converted value: 13.12336\n"
     ]
    }
   ],
   "source": [
    "value = float(input(\"Enter a measurement value: \"))\n",
    "from_unit = input(\"Enter the source unit (e.g., meters, feet): \")\n",
    "to_unit = input(\"Enter the target unit (e.g., meters, feet): \")\n",
    "\n",
    "if from_unit == \"meters\" and to_unit == \"feet\":\n",
    "    converted_value = value * 3.28084\n",
    "elif from_unit == \"feet\" and to_unit == \"meters\":\n",
    "    converted_value = value / 3.28084\n",
    "else:\n",
    "    converted_value = \"Invalid conversion\"\n",
    "\n",
    "print(\"Converted value: \" + str(converted_value))\n"
   ]
  },
  {
   "cell_type": "markdown",
   "metadata": {},
   "source": [
    "#### Question 8: Write a program that takes a sentence as input and counts the number of words in it."
   ]
  },
  {
   "cell_type": "code",
   "execution_count": 15,
   "metadata": {},
   "outputs": [
    {
     "name": "stdout",
     "output_type": "stream",
     "text": [
      "Enter a sentence: hi, how are you\n",
      "Number of words: 4\n"
     ]
    }
   ],
   "source": [
    "sentence = input(\"Enter a sentence: \")\n",
    "words = sentence.split()\n",
    "word_count = len(words)\n",
    "print(\"Number of words: \" + str(word_count))\n"
   ]
  },
  {
   "cell_type": "markdown",
   "metadata": {},
   "source": [
    "#### Question 9: Create a temperature converter that converts Fahrenheit to Celsius or vice versa, based on user choice."
   ]
  },
  {
   "cell_type": "code",
   "execution_count": 16,
   "metadata": {},
   "outputs": [
    {
     "name": "stdout",
     "output_type": "stream",
     "text": [
      "Enter the temperature: 43\n",
      "Enter the scale (Fahrenheit or Celsius): Fahrenheit\n",
      "Converted temperature: 6.111111111111111\n"
     ]
    }
   ],
   "source": [
    "temperature = float(input(\"Enter the temperature: \"))\n",
    "scale = input(\"Enter the scale (Fahrenheit or Celsius): \")\n",
    "\n",
    "if scale.lower() == \"fahrenheit\":\n",
    "    converted_temperature = (temperature - 32) * 5/9\n",
    "elif scale.lower() == \"celsius\":\n",
    "    converted_temperature = (temperature * 9/5) + 32\n",
    "else:\n",
    "    converted_temperature = \"Invalid scale\"\n",
    "\n",
    "print(\"Converted temperature: \" + str(converted_temperature))\n"
   ]
  },
  {
   "cell_type": "markdown",
   "metadata": {},
   "source": [
    "#### Question 10:Build a simple quiz game that asks the user multiple-choice questions and keeps track of their score."
   ]
  },
  {
   "cell_type": "code",
   "execution_count": 18,
   "metadata": {},
   "outputs": [
    {
     "name": "stdout",
     "output_type": "stream",
     "text": [
      "Question 1: What is the capital of France?\n",
      "a) Paris\n",
      "b) London\n",
      "c) Berlin\n",
      "Your answer: a\n",
      "Question 2: What is 2 + 2?\n",
      "a) 3\n",
      "b) 4\n",
      "c) 5\n",
      "Your answer: b\n",
      "Your score: 2\n"
     ]
    }
   ],
   "source": [
    "score = 0\n",
    "\n",
    "# Question 1\n",
    "print(\"Question 1: What is the capital of France?\")\n",
    "answer1 = input(\"a) Paris\\nb) London\\nc) Berlin\\nYour answer: \")\n",
    "if answer1.lower() == \"a\":\n",
    "    score += 1\n",
    "\n",
    "# Question 2\n",
    "print(\"Question 2: What is 2 + 2?\")\n",
    "answer2 = input(\"a) 3\\nb) 4\\nc) 5\\nYour answer: \")\n",
    "if answer2.lower() == \"b\":\n",
    "    score += 1\n",
    "\n",
    "print(\"Your score: \" + str(score))\n"
   ]
  },
  {
   "cell_type": "code",
   "execution_count": null,
   "metadata": {},
   "outputs": [],
   "source": []
  }
 ],
 "metadata": {
  "kernelspec": {
   "display_name": "Python 3",
   "language": "python",
   "name": "python3"
  },
  "language_info": {
   "codemirror_mode": {
    "name": "ipython",
    "version": 3
   },
   "file_extension": ".py",
   "mimetype": "text/x-python",
   "name": "python",
   "nbconvert_exporter": "python",
   "pygments_lexer": "ipython3",
   "version": "3.7.6"
  }
 },
 "nbformat": 4,
 "nbformat_minor": 4
}
