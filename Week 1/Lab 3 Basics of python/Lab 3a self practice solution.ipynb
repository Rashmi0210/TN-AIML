{
 "cells": [
  {
   "cell_type": "markdown",
   "metadata": {},
   "source": [
    "# EDUNET FOUNDATION-Self-Practice Solution"
   ]
  },
  {
   "cell_type": "markdown",
   "metadata": {},
   "source": [
    "# LAB 4 - Exercise- Take Input from Users"
   ]
  },
  {
   "cell_type": "markdown",
   "metadata": {},
   "source": [
    "Question 1: Write a Python program that takes a user's email address as input and validates whether it contains the \"@\" symbol and a domain name."
   ]
  },
  {
   "cell_type": "code",
   "execution_count": 2,
   "metadata": {},
   "outputs": [
    {
     "name": "stdout",
     "output_type": "stream",
     "text": [
      "Enter your email address: rashmi@gmail.com\n",
      "Valid email address\n"
     ]
    }
   ],
   "source": [
    "email = input(\"Enter your email address: \")\n",
    "\n",
    "if \"@\" in email and \".\" in email.split(\"@\")[1]:\n",
    "    print(\"Valid email address\")\n",
    "else:\n",
    "    print(\"Invalid email address\")\n"
   ]
  },
  {
   "cell_type": "markdown",
   "metadata": {},
   "source": [
    "Question 2: Create a program that asks the user to enter three numbers and then prints the average of those numbers."
   ]
  },
  {
   "cell_type": "code",
   "execution_count": 3,
   "metadata": {},
   "outputs": [
    {
     "name": "stdout",
     "output_type": "stream",
     "text": [
      "Enter the first number: 4\n",
      "Enter the second number: 5\n",
      "Enter the third number: 6\n",
      "Average: 5.0\n"
     ]
    }
   ],
   "source": [
    "num1 = float(input(\"Enter the first number: \"))\n",
    "num2 = float(input(\"Enter the second number: \"))\n",
    "num3 = float(input(\"Enter the third number: \"))\n",
    "\n",
    "average = (num1 + num2 + num3) / 3\n",
    "print(\"Average: \" + str(average))\n"
   ]
  },
  {
   "cell_type": "markdown",
   "metadata": {},
   "source": [
    "Question 3: Build a program that takes a sentence as input and counts the number of vowels (a, e, i, o, u) in it."
   ]
  },
  {
   "cell_type": "code",
   "execution_count": 4,
   "metadata": {},
   "outputs": [
    {
     "name": "stdout",
     "output_type": "stream",
     "text": [
      "Enter a sentence: Welcome\n",
      "Number of vowels: 3\n"
     ]
    }
   ],
   "source": [
    "sentence = input(\"Enter a sentence: \")\n",
    "vowels = \"aeiouAEIOU\"\n",
    "\n",
    "vowel_count = sum(1 for char in sentence if char in vowels)\n",
    "print(\"Number of vowels: \" + str(vowel_count))\n"
   ]
  },
  {
   "cell_type": "markdown",
   "metadata": {},
   "source": [
    "Question 4: Develop a simple BMI (Body Mass Index) calculator that takes the user's weight (in kilograms) and height (in meters) as input and calculates their BMI."
   ]
  },
  {
   "cell_type": "code",
   "execution_count": 5,
   "metadata": {},
   "outputs": [
    {
     "name": "stdout",
     "output_type": "stream",
     "text": [
      "Enter your weight (kg): 58\n",
      "Enter your height (m): 5.3\n",
      "Your BMI is: 2.0647917408330367\n"
     ]
    }
   ],
   "source": [
    "weight = float(input(\"Enter your weight (kg): \"))\n",
    "height = float(input(\"Enter your height (m): \"))\n",
    "\n",
    "bmi = weight / (height ** 2)\n",
    "print(\"Your BMI is: \" + str(bmi))\n"
   ]
  },
  {
   "cell_type": "markdown",
   "metadata": {},
   "source": [
    "Question 5: Write a program that asks the user for their birth year and calculates their age."
   ]
  },
  {
   "cell_type": "code",
   "execution_count": 6,
   "metadata": {},
   "outputs": [
    {
     "name": "stdout",
     "output_type": "stream",
     "text": [
      "Enter your birth year: 1987\n",
      "Your age is: 36\n"
     ]
    }
   ],
   "source": [
    "birth_year = int(input(\"Enter your birth year: \"))\n",
    "current_year = 2023  # You can update this with the current year.\n",
    "\n",
    "age = current_year - birth_year\n",
    "print(\"Your age is: \" + str(age))\n"
   ]
  },
  {
   "cell_type": "code",
   "execution_count": null,
   "metadata": {},
   "outputs": [],
   "source": []
  }
 ],
 "metadata": {
  "kernelspec": {
   "display_name": "Python 3",
   "language": "python",
   "name": "python3"
  },
  "language_info": {
   "codemirror_mode": {
    "name": "ipython",
    "version": 3
   },
   "file_extension": ".py",
   "mimetype": "text/x-python",
   "name": "python",
   "nbconvert_exporter": "python",
   "pygments_lexer": "ipython3",
   "version": "3.7.6"
  }
 },
 "nbformat": 4,
 "nbformat_minor": 4
}
